{
 "cells": [
  {
   "cell_type": "code",
   "execution_count": 2,
   "id": "fdbfa2f9",
   "metadata": {},
   "outputs": [
    {
     "data": {
      "text/plain": [
       "array([9139799.48700607])"
      ]
     },
     "execution_count": 2,
     "metadata": {},
     "output_type": "execute_result"
    }
   ],
   "source": [
    "# Deploying model\n",
    "import pickle\n",
    "loaded_model=pickle.load(open(\"finalized_model_svmr.sav\", 'rb'))\n",
    "result=loaded_model.predict([[30,20,0,0,1,0,1]])\n",
    "result"
   ]
  }
 ],
 "metadata": {
  "kernelspec": {
   "display_name": "Python 3",
   "language": "python",
   "name": "python3"
  },
  "language_info": {
   "codemirror_mode": {
    "name": "ipython",
    "version": 3
   },
   "file_extension": ".py",
   "mimetype": "text/x-python",
   "name": "python",
   "nbconvert_exporter": "python",
   "pygments_lexer": "ipython3",
   "version": "3.11.9"
  }
 },
 "nbformat": 4,
 "nbformat_minor": 5
}
