{
 "cells": [
  {
   "cell_type": "code",
   "execution_count": null,
   "id": "31da81d1",
   "metadata": {},
   "outputs": [],
   "source": [
    "#Importing libraies\n",
    "import numpy as np\n",
    "import matplotlib.pyplot as plt\n",
    "import pandas as pd"
   ]
  },
  {
   "cell_type": "code",
   "execution_count": null,
   "id": "ffb01997",
   "metadata": {},
   "outputs": [],
   "source": [
    "#Read dataset\n",
    "dataset=pd.read_csv(\"insurance_pre.csv\")\n",
    "dataset"
   ]
  },
  {
   "cell_type": "code",
   "execution_count": null,
   "id": "0097412c",
   "metadata": {},
   "outputs": [],
   "source": [
    "dataset=pd.get_dummies(dataset, drop_first=True)\n",
    "dataset=dataset.replace({True:1, False:0})\n",
    "dataset"
   ]
  },
  {
   "cell_type": "code",
   "execution_count": null,
   "id": "de662e74",
   "metadata": {},
   "outputs": [],
   "source": [
    "dataset.columns"
   ]
  },
  {
   "cell_type": "code",
   "execution_count": null,
   "id": "cca18932",
   "metadata": {},
   "outputs": [],
   "source": [
    "independent=dataset[['age', 'bmi', 'children','sex_male', 'smoker_yes']]\n",
    "independent"
   ]
  },
  {
   "cell_type": "code",
   "execution_count": null,
   "id": "60ae793a",
   "metadata": {},
   "outputs": [],
   "source": [
    "dependent=dataset[['charges']]\n",
    "dependent"
   ]
  },
  {
   "cell_type": "code",
   "execution_count": null,
   "id": "d833305a",
   "metadata": {},
   "outputs": [],
   "source": [
    "from sklearn.model_selection import GridSearchCV\n",
    "from sklearn.svm import SVR\n",
    "param_grid = {'kernel':['rbf','poly','sigmoid','linear'], 'C':[10,100,1000,2000,3000], 'gamma':['auto','scale']}\n",
    "grid=GridSearchCV(SVR(), param_grid, refit = True, verbose=3, n_jobs=-1)\n",
    "#Fitting the model using grids earch\n",
    "grid.fit(independent, dependent)"
   ]
  },
  {
   "cell_type": "code",
   "execution_count": null,
   "id": "ecf518aa",
   "metadata": {},
   "outputs": [],
   "source": [
    "# Print best parameter after tunning\n",
    "re=grid.cv_results_\n",
    "print(\"The R_score value for best parameter{}:\".format(grid.best_params_))"
   ]
  },
  {
   "cell_type": "code",
   "execution_count": null,
   "id": "54607d2a",
   "metadata": {},
   "outputs": [],
   "source": [
    "table=pd.DataFrame.from_dict(re)\n",
    "table"
   ]
  },
  {
   "cell_type": "code",
   "execution_count": null,
   "id": "2a515f8f",
   "metadata": {},
   "outputs": [],
   "source": [
    "age_input=float(input(\"Age:\"))\n",
    "bmi_input=float(input(\"BMI:\"))\n",
    "children=float(input(\"Children:\"))\n",
    "sex_male_input=int(input(\"sex male 0 or 1:\"))\n",
    "smoke_yes_input=int(input(\"smoke yes 0 or 1:\"))"
   ]
  },
  {
   "cell_type": "code",
   "execution_count": null,
   "id": "c1bf61ab",
   "metadata": {},
   "outputs": [],
   "source": [
    "Future_Prediction=grid.predict([[age_input,bmi_input,children,sex_male_input,smoke_yes_input]])\n",
    "print(\"Future Prediction={}\".format(Future_Prediction))"
   ]
  }
 ],
 "metadata": {
  "kernelspec": {
   "display_name": "Python 3",
   "language": "python",
   "name": "python3"
  },
  "language_info": {
   "codemirror_mode": {
    "name": "ipython",
    "version": 3
   },
   "file_extension": ".py",
   "mimetype": "text/x-python",
   "name": "python",
   "nbconvert_exporter": "python",
   "pygments_lexer": "ipython3",
   "version": "3.11.9"
  }
 },
 "nbformat": 4,
 "nbformat_minor": 5
}
