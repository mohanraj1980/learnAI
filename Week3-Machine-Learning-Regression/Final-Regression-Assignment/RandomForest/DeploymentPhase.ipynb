{
 "cells": [
  {
   "cell_type": "code",
   "execution_count": 1,
   "id": "8a87b835",
   "metadata": {},
   "outputs": [
    {
     "name": "stderr",
     "output_type": "stream",
     "text": [
      "C:\\Users\\Mohanraj_Ramasamy\\AppData\\Local\\Packages\\PythonSoftwareFoundation.Python.3.11_qbz5n2kfra8p0\\LocalCache\\local-packages\\Python311\\site-packages\\sklearn\\utils\\validation.py:2739: UserWarning: X does not have valid feature names, but RandomForestRegressor was fitted with feature names\n",
      "  warnings.warn(\n"
     ]
    }
   ],
   "source": [
    "# Deploying model\n",
    "import pickle\n",
    "loaded_model=pickle.load(open(\"finalized_model_forest.sav\", 'rb'))\n",
    "result=loaded_model.predict([[30,30.5,0,0,1,0,1]])"
   ]
  },
  {
   "cell_type": "code",
   "execution_count": 2,
   "id": "6eb321d3",
   "metadata": {},
   "outputs": [
    {
     "data": {
      "text/plain": [
       "array([35849.1825586])"
      ]
     },
     "execution_count": 2,
     "metadata": {},
     "output_type": "execute_result"
    }
   ],
   "source": [
    "result"
   ]
  }
 ],
 "metadata": {
  "kernelspec": {
   "display_name": "Python 3",
   "language": "python",
   "name": "python3"
  },
  "language_info": {
   "codemirror_mode": {
    "name": "ipython",
    "version": 3
   },
   "file_extension": ".py",
   "mimetype": "text/x-python",
   "name": "python",
   "nbconvert_exporter": "python",
   "pygments_lexer": "ipython3",
   "version": "3.11.9"
  }
 },
 "nbformat": 4,
 "nbformat_minor": 5
}
