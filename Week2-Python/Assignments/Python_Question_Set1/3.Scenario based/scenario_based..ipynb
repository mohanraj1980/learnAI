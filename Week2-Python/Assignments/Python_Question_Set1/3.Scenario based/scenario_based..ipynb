{
 "cells": [
  {
   "cell_type": "code",
   "execution_count": null,
   "id": "879cea16",
   "metadata": {},
   "outputs": [
    {
     "name": "stdout",
     "output_type": "stream",
     "text": [
      "Eligible for Voting!\n"
     ]
    }
   ],
   "source": [
    "#1. A system checks if a user is eligible to vote based on their age.\n",
    "age = int(input(\"Enter you age: \"))\n",
    "\n",
    "if age >= 18:\n",
    "    print(\"Eligible for Voting!\")\n",
    "else:\n",
    "    print(\"Not Eligible for Voting!\")"
   ]
  },
  {
   "cell_type": "code",
   "execution_count": 2,
   "id": "dd4225a0",
   "metadata": {},
   "outputs": [
    {
     "name": "stdout",
     "output_type": "stream",
     "text": [
      "20\n"
     ]
    }
   ],
   "source": [
    "#2.A program processes a list of numbers and needs to find the largest value\n",
    "numbers = [2,5,7,9,12,20]\n",
    "large_numbers = max(numbers)\n",
    "print(large_numbers)"
   ]
  },
  {
   "cell_type": "code",
   "execution_count": 3,
   "id": "a5ee1347",
   "metadata": {},
   "outputs": [
    {
     "name": "stdout",
     "output_type": "stream",
     "text": [
      "Bonus amount:  5100.0\n"
     ]
    }
   ],
   "source": [
    "# 3. Write logic to determine the bonus amount based on the given salary\n",
    "def calculate_bonus(salary):\n",
    "    if salary >= 50000:\n",
    "        return salary * 0.10  \n",
    "    else:\n",
    "        return \"Not eligible for bonus\"\n",
    "salary = 51000\n",
    "bonus = calculate_bonus(salary)\n",
    "\n",
    "if bonus > 0:\n",
    "    print(\"Bonus amount: \", bonus)\n",
    "else:\n",
    "    print(\"Not eligible for bonus.\")"
   ]
  },
  {
   "cell_type": "code",
   "execution_count": 6,
   "id": "36621696",
   "metadata": {},
   "outputs": [
    {
     "name": "stdout",
     "output_type": "stream",
     "text": [
      "Odd Number\n"
     ]
    },
    {
     "data": {
      "text/plain": [
       "'Odd Number'"
      ]
     },
     "execution_count": 6,
     "metadata": {},
     "output_type": "execute_result"
    }
   ],
   "source": [
    "# 4. : A program evaluates a number to determine if it is even or odd.\n",
    "def OddEven():\n",
    "    num = int(input(\"Enter the number:\"))\n",
    "    if ((num%2) == 1):\n",
    "        print(\"Odd Number\")\n",
    "        message = \"Odd Number\"\n",
    "    else:\n",
    "        print(\"Even Number\")\n",
    "        message = \"Even Number\"\n",
    "    return message  \n",
    "OddEven()"
   ]
  },
  {
   "cell_type": "code",
   "execution_count": 9,
   "id": "794c48be",
   "metadata": {},
   "outputs": [
    {
     "name": "stdout",
     "output_type": "stream",
     "text": [
      "olleH iaepoh\n"
     ]
    }
   ],
   "source": [
    "# 5. Write logic to take a word or sentence as input and produce its reversed version\n",
    "s = \"Hello hopeai\"\n",
    "words = s.split()\n",
    "a = []\n",
    "for word in words:\n",
    "    a.append(word[::-1])\n",
    "\n",
    "output1 = \" \".join(a)\n",
    "print(output1)\n"
   ]
  },
  {
   "cell_type": "code",
   "execution_count": null,
   "id": "b3d09b83",
   "metadata": {},
   "outputs": [
    {
     "name": "stdout",
     "output_type": "stream",
     "text": [
      "Result: Pass\n"
     ]
    }
   ],
   "source": [
    "# 6. Write logic to check if a student has passed a subject by scoring at least 40 marks\n",
    "def check_pass_fail(marks):\n",
    "  if marks >= 40:\n",
    "    return \"Pass\"\n",
    "  else:\n",
    "    return \"Fail\"\n",
    "\n",
    "marks = 42\n",
    "result = check_pass_fail(marks)\n",
    "\n",
    "print(\"Result:\", result)"
   ]
  },
  {
   "cell_type": "code",
   "execution_count": 13,
   "id": "41f9efff",
   "metadata": {},
   "outputs": [
    {
     "name": "stdout",
     "output_type": "stream",
     "text": [
      "The final cost of the order is: $ 120.0\n"
     ]
    }
   ],
   "source": [
    "# 7. A retail store offers a 20% discount if a customer’s total order exceeds $100. \n",
    "def calculate_total_cost(order_amount):\n",
    "    if order_amount > 100:\n",
    "        discount_amount = order_amount * 0.20\n",
    "        final_amount = order_amount - discount_amount\n",
    "        return final_amount\n",
    "    else:\n",
    "        return order_amount\n",
    "order_amount = 150\n",
    "final_cost = calculate_total_cost(order_amount)\n",
    "print(\"The final cost of the order is: $\",final_cost)"
   ]
  },
  {
   "cell_type": "code",
   "execution_count": 17,
   "id": "73cead54",
   "metadata": {},
   "outputs": [
    {
     "name": "stdout",
     "output_type": "stream",
     "text": [
      "Current balance: Rs.1000\n",
      "Withdrawal of Rs.200 successful. New balance: Rs.800\n",
      "Deposit of Rs.500 successful. New balance: Rs.1300\n",
      "Current balance: Rs.1300\n",
      "Insufficient balance or invalid withdrawal amount.\n",
      "Current balance: Rs.1300\n"
     ]
    }
   ],
   "source": [
    "# 8. A banking system processes withdrawal requests and ensures the user has enough balance\n",
    "class BankAccount:\n",
    "    def __init__(self, account_number, balance):\n",
    "        self.account_number = account_number\n",
    "        self.balance = balance\n",
    "\n",
    "    def deposit(self, amount):\n",
    "        if amount > 0:\n",
    "            self.balance += amount\n",
    "            print(f\"Deposit of Rs.{amount} successful. New balance: Rs.{self.balance}\")\n",
    "        else:\n",
    "            print(\"Invalid deposit amount. Must be positive.\")\n",
    "\n",
    "    def withdraw(self, amount):\n",
    "        if amount > 0 and amount <= self.balance:\n",
    "            self.balance -= amount\n",
    "            print(f\"Withdrawal of Rs.{amount} successful. New balance: Rs.{self.balance}\")\n",
    "        else:\n",
    "            print(\"Insufficient balance or invalid withdrawal amount.\")\n",
    "\n",
    "    def check_balance(self):\n",
    "        print(f\"Current balance: Rs.{self.balance}\")\n",
    "\n",
    "\n",
    "def main():\n",
    "    # Create a bank account\n",
    "    account = BankAccount(account_number=\"12345\", balance=1000)\n",
    "\n",
    "    # Process withdrawal and deposit requests\n",
    "    account.check_balance()\n",
    "    account.withdraw(200)\n",
    "    account.deposit(500)\n",
    "    account.check_balance()\n",
    "    account.withdraw(1500)  # Insufficient balance\n",
    "    account.check_balance()\n",
    "\n",
    "\n",
    "if __name__ == \"__main__\":\n",
    "    main()"
   ]
  },
  {
   "cell_type": "code",
   "execution_count": 23,
   "id": "1a7e99a4",
   "metadata": {},
   "outputs": [
    {
     "name": "stdout",
     "output_type": "stream",
     "text": [
      "Leap year\n"
     ]
    }
   ],
   "source": [
    "# 9. Write logic to determine whether a given year is a leap year\n",
    "def leap_year(y):\n",
    "    if (y % 4 == 0 and y % 100 != 0) or (y % 400 == 0):\n",
    "        print(\"Leap year\") \n",
    "    else:\n",
    "        print(\"Not a leap year\")\n",
    "LeapYear=leap_year(2024)\n"
   ]
  },
  {
   "cell_type": "code",
   "execution_count": 24,
   "id": "7a3eb980",
   "metadata": {},
   "outputs": [
    {
     "name": "stdout",
     "output_type": "stream",
     "text": [
      "[2, 4, 6, 8, 10]\n"
     ]
    }
   ],
   "source": [
    "# 10. Write logic to extract and return only the even numbers from a list\n",
    "a = [1, 2, 3, 4, 5, 6, 7, 8, 9, 10]\n",
    "\n",
    "res = [val for val in a if val % 2 == 0]\n",
    "print(res)"
   ]
  }
 ],
 "metadata": {
  "kernelspec": {
   "display_name": "Python 3",
   "language": "python",
   "name": "python3"
  },
  "language_info": {
   "codemirror_mode": {
    "name": "ipython",
    "version": 3
   },
   "file_extension": ".py",
   "mimetype": "text/x-python",
   "name": "python",
   "nbconvert_exporter": "python",
   "pygments_lexer": "ipython3",
   "version": "3.11.9"
  }
 },
 "nbformat": 4,
 "nbformat_minor": 5
}
