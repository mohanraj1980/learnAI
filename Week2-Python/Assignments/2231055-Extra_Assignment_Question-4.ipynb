{
 "cells": [
  {
   "cell_type": "code",
   "execution_count": 64,
   "id": "0814b889-5e42-4f6c-a9a1-2e45705dd2a5",
   "metadata": {},
   "outputs": [],
   "source": [
    "class ListProcessor:\n",
    "    def __init__(self, data_list):\n",
    "        self.data_list = data_list\n",
    "    def Subfields(self):\n",
    "        print(\"Sub-fields in AI are:\")\n",
    "        for item in data_list:\n",
    "            print(item)            "
   ]
  },
  {
   "cell_type": "code",
   "execution_count": 65,
   "id": "762f1d75-1ea0-4b0f-978d-da1cd8f9ac94",
   "metadata": {},
   "outputs": [],
   "source": [
    "data_list = [\"Machine Learning\", \"Neural Networks\", \"Vision\", \"Robotics\", \"Speech Processing\", \"Natural Language Processing\"]"
   ]
  },
  {
   "cell_type": "code",
   "execution_count": 66,
   "id": "436f90c2-5e81-481c-99e1-18911c92af86",
   "metadata": {},
   "outputs": [],
   "source": [
    "SubfieldsInAI = ListProcessor(data_list)"
   ]
  },
  {
   "cell_type": "code",
   "execution_count": 67,
   "id": "b541b6c6-da49-44c0-89f5-fe6c255c6999",
   "metadata": {
    "scrolled": true
   },
   "outputs": [
    {
     "name": "stdout",
     "output_type": "stream",
     "text": [
      "Sub-fields in AI are:\n",
      "Machine Learning\n",
      "Neural Networks\n",
      "Vision\n",
      "Robotics\n",
      "Speech Processing\n",
      "Natural Language Processing\n"
     ]
    }
   ],
   "source": [
    "SubfieldsInAI.Subfields()"
   ]
  },
  {
   "cell_type": "code",
   "execution_count": 110,
   "id": "d2a00fc3-5819-4b55-8a9b-b3495f69b4a6",
   "metadata": {},
   "outputs": [],
   "source": [
    "def check_odd_even(number):\n",
    "    #number=int(input(\"Enter a number: \"))\n",
    "    if number % 2 == 0:\n",
    "        return \"Even Number\"\n",
    "    else:\n",
    "        return \"Odd Number\"  \n"
   ]
  },
  {
   "cell_type": "code",
   "execution_count": 111,
   "id": "967393b3-bbbf-4f45-a81f-a2fefecae637",
   "metadata": {},
   "outputs": [],
   "source": [
    "message = check_odd_even(14)"
   ]
  },
  {
   "cell_type": "code",
   "execution_count": 112,
   "id": "8eadf22c-7808-4739-b20e-91829a01d260",
   "metadata": {},
   "outputs": [
    {
     "name": "stdout",
     "output_type": "stream",
     "text": [
      "Even Number\n"
     ]
    }
   ],
   "source": [
    "print(message)"
   ]
  },
  {
   "cell_type": "code",
   "execution_count": null,
   "id": "616aa787-7005-4362-8957-e9e8c169aa9c",
   "metadata": {},
   "outputs": [],
   "source": []
  },
  {
   "cell_type": "code",
   "execution_count": 117,
   "id": "89491174-18ac-4c7d-8790-09a3355ff978",
   "metadata": {},
   "outputs": [],
   "source": [
    "def check_marriage_eligibility():\n",
    "    gender=input(\"Your Gender: \")\n",
    "    age=int(input(\"Your Age: \"))\n",
    "    if gender.lower() == 'male':\n",
    "        if age >= 21:\n",
    "            return \"Eligible for marriage.\"\n",
    "        else:\n",
    "            return \"NOT ELIGIBLE\"\n",
    "    elif gender.lower() == 'female':\n",
    "        if age >= 18:\n",
    "            return \"Eligible for marriage.\"\n",
    "        else:\n",
    "            return \"NOT ELIGIBLE\"\n",
    "    else:\n",
    "        return \"Invalid gender input. Please specify 'male' or 'female'.\"     \n",
    "    "
   ]
  },
  {
   "cell_type": "code",
   "execution_count": 118,
   "id": "f7b92330-595f-4184-9b19-b504747eb03e",
   "metadata": {
    "jupyter": {
     "source_hidden": true
    }
   },
   "outputs": [
    {
     "name": "stdin",
     "output_type": "stream",
     "text": [
      "Your Gender:  male\n",
      "Your Age:  20\n"
     ]
    },
    {
     "name": "stdout",
     "output_type": "stream",
     "text": [
      "NOT ELIGIBLE\n"
     ]
    }
   ],
   "source": [
    "print(check_marriage_eligibility())"
   ]
  },
  {
   "cell_type": "code",
   "execution_count": 129,
   "id": "d91ddb67-3503-4ced-9767-8da1fb173bca",
   "metadata": {},
   "outputs": [],
   "source": [
    "# calculate the percentage of your 10th mark\n",
    "def FindPercent():\n",
    "    S1=float(input(\"Subject1: \"))\n",
    "    S2=float(input(\"Subject2: \"))\n",
    "    S3=float(input(\"Subject3: \"))\n",
    "    S4=float(input(\"Subject4: \"))\n",
    "    S5=float(input(\"Subject5: \"))\n",
    "\n",
    "    total_marks = S1+S2+S3+S4+S5\n",
    "    print(\"Totel: \",total_marks)\n",
    "\n",
    "    percentage = (total_marks / 5)\n",
    "    print(\"Percentage : \",percentage)\n",
    "    "
   ]
  },
  {
   "cell_type": "code",
   "execution_count": 130,
   "id": "79f97c33-1f2f-410e-9095-0ac432e07bd2",
   "metadata": {},
   "outputs": [
    {
     "name": "stdin",
     "output_type": "stream",
     "text": [
      "Subject1:  85\n",
      "Subject2:  80\n",
      "Subject3:  90\n",
      "Subject4:  95\n",
      "Subject5:  92\n"
     ]
    },
    {
     "name": "stdout",
     "output_type": "stream",
     "text": [
      "Totel:  442.0\n",
      "Percentage :  88.4\n"
     ]
    }
   ],
   "source": [
    "FindPercent()"
   ]
  },
  {
   "cell_type": "code",
   "execution_count": 133,
   "id": "3f1503e0-39bb-45dd-96c6-454deff14dc8",
   "metadata": {},
   "outputs": [],
   "source": [
    "def triangle ():\n",
    "    h=float(input(\"Height: \"))\n",
    "    b=float(input(\"Breadth: \"))\n",
    "    \n",
    "    areaformula = (h*b)/2\n",
    "    print(\"Area of Triangle: \", areaformula)\n",
    "    \n",
    "    h1=float(input(\"Height1: \"))\n",
    "    h2=float(input(\"Height2: \"))\n",
    "    b1=float(input(\"Breadth:: \"))\n",
    "\n",
    "    perimeterformula = h1+h2+b1\n",
    "    print(\"Perimeter of Triangle: \", perimeterformula)\n",
    "    \n",
    "    "
   ]
  },
  {
   "cell_type": "code",
   "execution_count": 134,
   "id": "29b4250a-a1ac-4df4-a117-afe07b670859",
   "metadata": {},
   "outputs": [
    {
     "name": "stdin",
     "output_type": "stream",
     "text": [
      "Height:  32\n",
      "Breadth:  34\n"
     ]
    },
    {
     "name": "stdout",
     "output_type": "stream",
     "text": [
      "Area of Triangle:  544.0\n"
     ]
    },
    {
     "name": "stdin",
     "output_type": "stream",
     "text": [
      "Height1:  2\n",
      "Height2:  4\n",
      "Breadth::  4\n"
     ]
    },
    {
     "name": "stdout",
     "output_type": "stream",
     "text": [
      "Perimeter of Triangle:  10.0\n"
     ]
    }
   ],
   "source": [
    "triangle ()"
   ]
  },
  {
   "cell_type": "code",
   "execution_count": null,
   "id": "bb607d71-e2cb-494c-ac94-6059c7d47c5d",
   "metadata": {},
   "outputs": [],
   "source": []
  }
 ],
 "metadata": {
  "kernelspec": {
   "display_name": "anaconda-panel-2023.05-py310",
   "language": "python",
   "name": "conda-env-anaconda-panel-2023.05-py310-py"
  },
  "language_info": {
   "codemirror_mode": {
    "name": "ipython",
    "version": 3
   },
   "file_extension": ".py",
   "mimetype": "text/x-python",
   "name": "python",
   "nbconvert_exporter": "python",
   "pygments_lexer": "ipython3",
   "version": "3.11.5"
  }
 },
 "nbformat": 4,
 "nbformat_minor": 5
}
