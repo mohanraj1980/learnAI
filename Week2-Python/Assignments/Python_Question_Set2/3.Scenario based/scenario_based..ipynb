{
 "cells": [
  {
   "cell_type": "code",
   "execution_count": 9,
   "id": "e8d15493",
   "metadata": {},
   "outputs": [
    {
     "name": "stdout",
     "output_type": "stream",
     "text": [
      "Positive (Deposit)\n"
     ]
    }
   ],
   "source": [
    "# 1. A banking application that categorizes transactions based on the amount entered\n",
    "def transactions(amount):\n",
    "    #amount = int(input(\"Enter amount: \"))\n",
    "    if amount > 0:\n",
    "        return \"Positive (Deposit)\"\n",
    "    elif amount < 0:\n",
    "        return \"Negative (Withdrawal)\"\n",
    "    else:\n",
    "        return \"Zero (No Transaction)\"\n",
    "amount = 5000\n",
    "trans_type = transactions(amount)\n",
    "print(trans_type)\n"
   ]
  },
  {
   "cell_type": "code",
   "execution_count": 12,
   "id": "ca119d7e",
   "metadata": {},
   "outputs": [
    {
     "name": "stdout",
     "output_type": "stream",
     "text": [
      "15\n"
     ]
    }
   ],
   "source": [
    "# 2.Write logic to compute the sum of the digits of a given number\n",
    "def digits(n):\n",
    "    if n == 0:\n",
    "        return 0\n",
    "    return (n % 10) + digits(n // 10)\n",
    "\n",
    "n = 12345\n",
    "print(digits(n))"
   ]
  },
  {
   "cell_type": "code",
   "execution_count": 13,
   "id": "41d83d42",
   "metadata": {},
   "outputs": [
    {
     "name": "stdout",
     "output_type": "stream",
     "text": [
      "1234\n",
      "4321\n"
     ]
    }
   ],
   "source": [
    "# 3. Write logic to take a number and return its reverse\n",
    "n1 = 1234\n",
    "rev_num = int(str(n1)[::-1])\n",
    "\n",
    "print(n1)\n",
    "print(rev_num)   "
   ]
  },
  {
   "cell_type": "code",
   "execution_count": 20,
   "id": "5b6b4724",
   "metadata": {},
   "outputs": [
    {
     "name": "stdout",
     "output_type": "stream",
     "text": [
      "37 is a prime number\n"
     ]
    }
   ],
   "source": [
    "# 4. Write logic to check if a given number is prime\n",
    "def prime_number(n):\n",
    "    flag = False\n",
    "\n",
    "    if num < 2 :\n",
    "        print(num, \"is not a prime number\")\n",
    "    elif num > 1:\n",
    "        for i in range(2, num):\n",
    "            if (num % i) == 0:\n",
    "                flag = True\n",
    "                break\n",
    "\n",
    "        if flag:\n",
    "            print(num, \"is not a prime number\")\n",
    "        else:\n",
    "            print(num, \"is a prime number\")\n",
    "num = 37\n",
    "prime = prime_number(num)"
   ]
  },
  {
   "cell_type": "code",
   "execution_count": 21,
   "id": "0c1dc582",
   "metadata": {},
   "outputs": [
    {
     "name": "stdout",
     "output_type": "stream",
     "text": [
      "number :  5\n",
      "Factorial :  120\n"
     ]
    }
   ],
   "source": [
    "# 5. Write logic to find the factorial of a given number using recursion\n",
    "def factorial(n): \n",
    "    if (n==1 or n==0):  \n",
    "        return 1    \n",
    "    else:        \n",
    "        return (n * factorial(n - 1)) \n",
    "num = 5; \n",
    "print(\"number : \",num)\n",
    "print(\"Factorial : \",factorial(num))"
   ]
  },
  {
   "cell_type": "code",
   "execution_count": null,
   "id": "7f1ea495",
   "metadata": {},
   "outputs": [
    {
     "name": "stdout",
     "output_type": "stream",
     "text": [
      "407 is an Armstrong number\n"
     ]
    }
   ],
   "source": [
    "# 6.  Write logic to check whether a given number is an Armstrong number\n",
    "def armstrong(num):\n",
    "#num = int(input(\"Enter a number: \"))\n",
    "\n",
    "    # initialize sum\n",
    "    sum = 0\n",
    "\n",
    "    # find the sum of the cube of each digit\n",
    "    temp = num\n",
    "    while temp > 0:\n",
    "        digit = temp % 10\n",
    "        sum += digit ** 3\n",
    "        temp //= 10\n",
    "\n",
    "    # display the result\n",
    "    if num == sum:\n",
    "        print(num,\"is an Armstrong number\")\n",
    "    else:\n",
    "        print(num,\"is not an Armstrong number\")\n",
    "armstrong(407)\n"
   ]
  },
  {
   "cell_type": "code",
   "execution_count": 32,
   "id": "9be5a810",
   "metadata": {},
   "outputs": [
    {
     "data": {
      "text/plain": [
       "'erustmT'"
      ]
     },
     "execution_count": 32,
     "metadata": {},
     "output_type": "execute_result"
    }
   ],
   "source": [
    "# 7. Swapping First and Last Characters of a String\n",
    "def front_back(string):\n",
    "    if array := list(string):\n",
    "        array[0], array[-1] = array[-1], array[0]\n",
    "    return \"\".join(array)\n",
    "front_back(\"Trustme\")"
   ]
  },
  {
   "cell_type": "code",
   "execution_count": 34,
   "id": "e4084344",
   "metadata": {},
   "outputs": [
    {
     "name": "stdout",
     "output_type": "stream",
     "text": [
      "1 0 1 0 \n",
      "\n"
     ]
    }
   ],
   "source": [
    "# 8. Write logic to convert a given decimal number into its binary equivalent\n",
    "def decimalToBinary(n): \n",
    "\n",
    "    if n > 1: \n",
    "        # divide with integral result \n",
    "        # (discard remainder) \n",
    "        decimalToBinary(n//2) \n",
    "    \n",
    "    print(n%2, end=' ')   \n",
    "\n",
    "# Driver code \n",
    "if __name__ == '__main__': \n",
    "    decimalToBinary(10) \n",
    "    print(\"\\n\")"
   ]
  },
  {
   "cell_type": "code",
   "execution_count": 35,
   "id": "312b491d",
   "metadata": {},
   "outputs": [
    {
     "name": "stdout",
     "output_type": "stream",
     "text": [
      "programming\n"
     ]
    }
   ],
   "source": [
    "# 9. Write logic to find the longest word in a sentence.\n",
    "s = \"I am learning Python programming language\"\n",
    "\n",
    "# Split the sentence into words\n",
    "words = s.split()\n",
    "\n",
    "# Initialize an empty string to store the longest word\n",
    "res = \"\"\n",
    "\n",
    "# Iterate through each word\n",
    "for word in words:\n",
    "  \n",
    "    # Update 'res' if the current word is longer than 'res'\n",
    "    if len(word) > len(res):\n",
    "        res = word\n",
    "\n",
    "print(res)"
   ]
  },
  {
   "cell_type": "code",
   "execution_count": 36,
   "id": "0a5d7b37",
   "metadata": {},
   "outputs": [
    {
     "name": "stdout",
     "output_type": "stream",
     "text": [
      "Yes\n"
     ]
    }
   ],
   "source": [
    "# 10.  Write logic to check whether two given strings are anagrams\n",
    "s1 = \"listen\"\n",
    "s2 = \"silent\"\n",
    "\n",
    "if sorted(s1) == sorted(s2):\n",
    "    print(\"Yes\")\n",
    "else:\n",
    "    print(\"No\")"
   ]
  }
 ],
 "metadata": {
  "kernelspec": {
   "display_name": "Python 3",
   "language": "python",
   "name": "python3"
  },
  "language_info": {
   "codemirror_mode": {
    "name": "ipython",
    "version": 3
   },
   "file_extension": ".py",
   "mimetype": "text/x-python",
   "name": "python",
   "nbconvert_exporter": "python",
   "pygments_lexer": "ipython3",
   "version": "3.11.9"
  }
 },
 "nbformat": 4,
 "nbformat_minor": 5
}
