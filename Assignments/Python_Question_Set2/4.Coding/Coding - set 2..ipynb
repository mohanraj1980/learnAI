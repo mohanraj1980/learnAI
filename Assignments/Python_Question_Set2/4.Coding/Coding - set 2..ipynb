{
 "cells": [
  {
   "cell_type": "code",
   "execution_count": 9,
   "id": "aba1475d",
   "metadata": {},
   "outputs": [
    {
     "name": "stdout",
     "output_type": "stream",
     "text": [
      "olleh\n"
     ]
    }
   ],
   "source": [
    "#1.Write a Python program to find the reverse of a string. Expected Output (for input \"hello\"):olleh\n",
    "def reverse_string(s):\n",
    "    return s[::-1]\n",
    "my_string = \"hello\"\n",
    "reversed_string = reverse_string(my_string)\n",
    "print(reversed_string)"
   ]
  },
  {
   "cell_type": "code",
   "execution_count": 10,
   "id": "5b1ec143",
   "metadata": {},
   "outputs": [
    {
     "name": "stdout",
     "output_type": "stream",
     "text": [
      "[0, 1, 1, 2, 3, 5, 8, 13, 21, 34]\n"
     ]
    }
   ],
   "source": [
    "# 2.Write a Python program to generate the Fibonacci sequence up to 10 terms.Expected Output:0 1 1 2 3 5 8 13 21 34\n",
    "def fibonacci_sequence(limit):\n",
    "    fib_list = [0, 1]\n",
    "    while len(fib_list) < limit:\n",
    "        next_fib = fib_list[-1] + fib_list[-2]\n",
    "        fib_list.append(next_fib)\n",
    "    return fib_list\n",
    "\n",
    "terms = 10\n",
    "fibonacci_numbers = fibonacci_sequence(terms)\n",
    "print(fibonacci_numbers)\n"
   ]
  },
  {
   "cell_type": "code",
   "execution_count": 13,
   "id": "c656f04a",
   "metadata": {},
   "outputs": [
    {
     "name": "stdout",
     "output_type": "stream",
     "text": [
      "madam is a palindrome\n"
     ]
    }
   ],
   "source": [
    "# 3.Write a Python function to check if a given string is a palindrome. Expected Output (for input \"madam\"):madam is a palindrome\n",
    "def is_palindrome(s):\n",
    "    return s == s[::-1]\n",
    "word = \"madam\"\n",
    "if is_palindrome(word):\n",
    "    print(f\"{word} is a palindrome\")\n",
    "else:\n",
    "    print(f\"{word} is not palindrome\")"
   ]
  },
  {
   "cell_type": "code",
   "execution_count": 16,
   "id": "cd7b0a78",
   "metadata": {},
   "outputs": [
    {
     "name": "stdout",
     "output_type": "stream",
     "text": [
      "Total vowels are :5\n"
     ]
    }
   ],
   "source": [
    "\n",
    "\n",
    "# 4.Write a Python program to count the number of vowels in a given string. Expected Output (for input \"education\"): Number of vowels: 5\n",
    "vowels = \"aeiouMMBD\"\n",
    "count = 0\n",
    "vowels = vowels.lower()\n",
    "for i in vowels:\n",
    "    if i == 'a' or i == 'e' or i == 'i' or i == 'o' or i == 'u':\n",
    "        #if True\n",
    "        count+=1\n",
    "#check if any vowel found\n",
    "if count == 0:\n",
    "    print(\"No vowels found\")\n",
    "else:\n",
    "    print(\"Total vowels are :\" + str(count))"
   ]
  },
  {
   "cell_type": "code",
   "execution_count": 17,
   "id": "bdbb9b19",
   "metadata": {},
   "outputs": [
    {
     "name": "stdout",
     "output_type": "stream",
     "text": [
      "[1, 2, 3, 4, 5]\n"
     ]
    }
   ],
   "source": [
    "# 5.Write a Python program to remove duplicates from a list.Expected Output (for input [1, 2, 2, 3, 4, 4, 5]): [1, 2, 3, 4, 5]\n",
    "def remove_duplicate(a):\n",
    "    return list(set(a))\n",
    "print(remove_duplicate([1, 2, 2, 3, 4, 4, 5]))"
   ]
  }
 ],
 "metadata": {
  "kernelspec": {
   "display_name": "Python 3",
   "language": "python",
   "name": "python3"
  },
  "language_info": {
   "codemirror_mode": {
    "name": "ipython",
    "version": 3
   },
   "file_extension": ".py",
   "mimetype": "text/x-python",
   "name": "python",
   "nbconvert_exporter": "python",
   "pygments_lexer": "ipython3",
   "version": "3.11.9"
  }
 },
 "nbformat": 4,
 "nbformat_minor": 5
}
