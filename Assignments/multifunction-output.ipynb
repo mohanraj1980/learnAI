{
 "cells": [
  {
   "cell_type": "code",
   "execution_count": 2,
   "id": "6d25b136-c89d-499c-9d0b-3eaf9a38e698",
   "metadata": {},
   "outputs": [],
   "source": [
    "from multifunctions import multiFunctions"
   ]
  },
  {
   "cell_type": "code",
   "execution_count": 6,
   "id": "0c856951-ba5d-4345-9235-50930f777830",
   "metadata": {},
   "outputs": [
    {
     "name": "stdout",
     "output_type": "stream",
     "text": [
      "Subject1:  88\n",
      "Subject2:  22\n",
      "Subject3:  35\n",
      "Subject4:  89\n",
      "Subject5:  92\n"
     ]
    },
    {
     "name": "stdout",
     "output_type": "stream",
     "text": [
      "Totel:  326.0\n",
      "Percentage :  65.2\n"
     ]
    }
   ],
   "source": [
    "multiFunctions.percentage()"
   ]
  },
  {
   "cell_type": "code",
   "execution_count": 7,
   "id": "95016a16-cc3f-473d-b0e1-d772515a037f",
   "metadata": {},
   "outputs": [
    {
     "name": "stdout",
     "output_type": "stream",
     "text": [
      "Sub-fields in AI are:\n",
      "Machine Learning\n",
      "Neural Networks\n",
      "Vision\n",
      "Robotics\n",
      "Speech Processing\n",
      "Natural Language Processing\n"
     ]
    }
   ],
   "source": [
    "multiFunctions.Subfields()"
   ]
  },
  {
   "cell_type": "code",
   "execution_count": 8,
   "id": "b208f79d-624e-452d-aa6a-3d9da757c344",
   "metadata": {},
   "outputs": [
    {
     "name": "stdout",
     "output_type": "stream",
     "text": [
      "Your Gender:  male\n",
      "Your Age:  20\n"
     ]
    },
    {
     "data": {
      "text/plain": [
       "'NOT ELIGIBLE'"
      ]
     },
     "execution_count": 8,
     "metadata": {},
     "output_type": "execute_result"
    }
   ],
   "source": [
    "multiFunctions.Elegible()"
   ]
  },
  {
   "cell_type": "code",
   "execution_count": 3,
   "id": "5d315317-7c32-4984-9b2c-74fd9cf2a200",
   "metadata": {
    "jupyter": {
     "source_hidden": true
    }
   },
   "outputs": [
    {
     "name": "stdout",
     "output_type": "stream",
     "text": [
      "Area of Triangle:  544.0\n",
      "Perimeter of Triangle:  10.0\n"
     ]
    }
   ],
   "source": [
    "multiFunctions.triangle()"
   ]
  },
  {
   "cell_type": "code",
   "execution_count": null,
   "id": "1b07e86a-5ef7-48d7-a773-12550ae1779d",
   "metadata": {},
   "outputs": [],
   "source": []
  }
 ],
 "metadata": {
  "kernelspec": {
   "display_name": "Python 3",
   "language": "python",
   "name": "python3"
  },
  "language_info": {
   "codemirror_mode": {
    "name": "ipython",
    "version": 3
   },
   "file_extension": ".py",
   "mimetype": "text/x-python",
   "name": "python",
   "nbconvert_exporter": "python",
   "pygments_lexer": "ipython3",
   "version": "3.11.9"
  }
 },
 "nbformat": 4,
 "nbformat_minor": 5
}
