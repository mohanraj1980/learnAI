{
 "cells": [
  {
   "cell_type": "code",
   "execution_count": 3,
   "id": "0cfcb825-f210-40bd-9405-13d9a88719e3",
   "metadata": {},
   "outputs": [
    {
     "name": "stdout",
     "output_type": "stream",
     "text": [
      "HOPE AI\n"
     ]
    }
   ],
   "source": [
    "print(\"HOPE AI\")"
   ]
  },
  {
   "cell_type": "code",
   "execution_count": 2,
   "id": "9cc54378-f0a6-41ac-99ef-f455c53a6463",
   "metadata": {
    "jupyter": {
     "source_hidden": true
    }
   },
   "outputs": [
    {
     "name": "stdin",
     "output_type": "stream",
     "text": [
      "Enter your institute name? : HOPE AI\n"
     ]
    }
   ],
   "source": [
    "name=input(\"Enter your institute name? :\")"
   ]
  },
  {
   "cell_type": "code",
   "execution_count": 1,
   "id": "8041b5b6-bac2-460d-a5c6-bc3ce562ee0a",
   "metadata": {},
   "outputs": [
    {
     "name": "stdin",
     "output_type": "stream",
     "text": [
      "Enter your name: Raj\n",
      "Enter your age: 15\n",
      "Enter your school name: Guru school\n",
      "Enter your drgree: B.E CSE\n"
     ]
    }
   ],
   "source": [
    "name=input(\"Enter your name:\")\n",
    "age=int(input(\"Enter your age:\"))\n",
    "sname=input(\"Enter your school name:\")\n",
    "dgree=input(\"Enter your drgree:\")"
   ]
  },
  {
   "cell_type": "code",
   "execution_count": 4,
   "id": "21d4a0d4-ef75-4a6b-b51f-fbb0ca0c7656",
   "metadata": {},
   "outputs": [
    {
     "name": "stdout",
     "output_type": "stream",
     "text": [
      "a = 43\n",
      "b = 34\n",
      "add = 77\n"
     ]
    }
   ],
   "source": [
    "num1 = 43\n",
    "num2 = 34\n",
    "print(\"a =\", num1)\n",
    "print(\"b =\", num2)\n",
    "print(\"add =\", num1+num2)"
   ]
  },
  {
   "cell_type": "code",
   "execution_count": 5,
   "id": "2ffdf25a-85af-4974-b058-e44c6bed7ec3",
   "metadata": {},
   "outputs": [
    {
     "name": "stdout",
     "output_type": "stream",
     "text": [
      "a = 43\n",
      "b = 34\n",
      "sub = 9\n"
     ]
    }
   ],
   "source": [
    "num1 = 43\n",
    "num2 = 34\n",
    "print(\"a =\", num1)\n",
    "print(\"b =\", num2)\n",
    "print(\"sub =\", num1-num2)"
   ]
  },
  {
   "cell_type": "code",
   "execution_count": 6,
   "id": "2a65dee6-bcae-48fd-b455-d84303b74151",
   "metadata": {},
   "outputs": [
    {
     "name": "stdout",
     "output_type": "stream",
     "text": [
      "a = 63\n",
      "b = 97\n",
      "Mul = 6111\n"
     ]
    }
   ],
   "source": [
    "num1 = 63\n",
    "num2 = 97\n",
    "print(\"a =\", num1)\n",
    "print(\"b =\", num2)\n",
    "print(\"Mul =\", num1*num2)"
   ]
  },
  {
   "cell_type": "code",
   "execution_count": 8,
   "id": "8ee26eda-f4f2-4111-aff5-ae399353bef0",
   "metadata": {},
   "outputs": [
    {
     "name": "stdout",
     "output_type": "stream",
     "text": [
      "a = 76\n",
      "b = 31\n",
      "Float Div = 2.4516129032258065\n"
     ]
    }
   ],
   "source": [
    "num1 = 76\n",
    "num2 = 31\n",
    "print(\"a =\", num1)\n",
    "print(\"b =\", num2)\n",
    "print(\"Float Div =\", num1 / num2)"
   ]
  },
  {
   "cell_type": "code",
   "execution_count": 9,
   "id": "7f0da0d0-e0b8-44f2-b659-da7a2711f483",
   "metadata": {},
   "outputs": [
    {
     "name": "stdout",
     "output_type": "stream",
     "text": [
      "a = 76\n",
      "b = 31\n",
      "Float Div = 2\n"
     ]
    }
   ],
   "source": [
    "num1 = 76\n",
    "num2 = 31\n",
    "print(\"a =\", num1)\n",
    "print(\"b =\", num2)\n",
    "print(\"Floor Div =\", num1 // num2)"
   ]
  },
  {
   "cell_type": "code",
   "execution_count": 10,
   "id": "dac9fff8-fabb-419c-878a-b3aa02b2f975",
   "metadata": {},
   "outputs": [
    {
     "name": "stdout",
     "output_type": "stream",
     "text": [
      "a = 76\n",
      "b = 31\n",
      "Float Div = 14\n"
     ]
    }
   ],
   "source": [
    "num1 = 76\n",
    "num2 = 31\n",
    "print(\"a =\", num1)\n",
    "print(\"b =\", num2)\n",
    "print(\"Modulo =\", num1 % num2)"
   ]
  },
  {
   "cell_type": "code",
   "execution_count": 13,
   "id": "d0abe367-04f5-4951-8f2f-511a0c79beac",
   "metadata": {},
   "outputs": [
    {
     "name": "stdout",
     "output_type": "stream",
     "text": [
      "a = 4\n",
      "b = 4\n",
      "Power = 256\n"
     ]
    }
   ],
   "source": [
    "num1 = 4\n",
    "num2 = 4\n",
    "print(\"a =\", num1)\n",
    "print(\"b =\", num2)\n",
    "print(\"Power =\", num1 ** num2)"
   ]
  },
  {
   "cell_type": "code",
   "execution_count": null,
   "id": "0c588641-db17-498e-8531-2b141af3fcdb",
   "metadata": {},
   "outputs": [],
   "source": []
  }
 ],
 "metadata": {
  "kernelspec": {
   "display_name": "Python 3 (ipykernel)",
   "language": "python",
   "name": "python3"
  },
  "language_info": {
   "codemirror_mode": {
    "name": "ipython",
    "version": 3
   },
   "file_extension": ".py",
   "mimetype": "text/x-python",
   "name": "python",
   "nbconvert_exporter": "python",
   "pygments_lexer": "ipython3",
   "version": "3.12.7"
  }
 },
 "nbformat": 4,
 "nbformat_minor": 5
}
