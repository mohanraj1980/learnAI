{
 "cells": [
  {
   "cell_type": "code",
   "execution_count": 1,
   "id": "9e645837-5a22-47b2-9ba1-8dcdc08fc475",
   "metadata": {},
   "outputs": [],
   "source": [
    "# Create a class and function, and list out the items in the list\n",
    "class SubfieldsInAI():\n",
    "    def Subfields():\n",
    "        data_list = [\"Machine Learning\", \"Neural Networks\", \"Vision\", \"Robotics\", \"Speech Processing\", \"Natural Language Processing\"]\n",
    "        print(\"Sub-fields in AI are:\")\n",
    "        for item in data_list:\n",
    "            print(item)     "
   ]
  },
  {
   "cell_type": "code",
   "execution_count": 2,
   "id": "acbfb266-ce7d-4cfc-8b60-d4a7ad3153e3",
   "metadata": {},
   "outputs": [
    {
     "name": "stdout",
     "output_type": "stream",
     "text": [
      "Sub-fields in AI are:\n",
      "Machine Learning\n",
      "Neural Networks\n",
      "Vision\n",
      "Robotics\n",
      "Speech Processing\n",
      "Natural Language Processing\n"
     ]
    }
   ],
   "source": [
    "SubfieldsInAI.Subfields()"
   ]
  },
  {
   "cell_type": "code",
   "execution_count": 5,
   "id": "ee621135-df82-483e-b688-e32616921959",
   "metadata": {},
   "outputs": [],
   "source": [
    "# Create a function that checks whether the given number is Odd or Even\n",
    "class OddEven():\n",
    "    def OddEven():\n",
    "        num = int(input(\"Enter the number:\"))\n",
    "        if ((num%2) == 1):\n",
    "            print(\"Odd Number\")\n",
    "            message = \"Odd Number\"\n",
    "        else:\n",
    "            print(\"Even Number\")\n",
    "            message = \"Even Number\"\n",
    "    \n",
    "        return message      \n",
    "    "
   ]
  },
  {
   "cell_type": "code",
   "execution_count": 6,
   "id": "0076c474-60bd-47c6-a0e1-78e9b1e6d3b0",
   "metadata": {
    "jupyter": {
     "source_hidden": true
    }
   },
   "outputs": [
    {
     "name": "stdin",
     "output_type": "stream",
     "text": [
      "Enter the number: 15\n"
     ]
    },
    {
     "name": "stdout",
     "output_type": "stream",
     "text": [
      "Odd Number\n"
     ]
    },
    {
     "data": {
      "text/plain": [
       "'Odd Number'"
      ]
     },
     "execution_count": 6,
     "metadata": {},
     "output_type": "execute_result"
    }
   ],
   "source": [
    "OddEven.OddEven()"
   ]
  },
  {
   "cell_type": "code",
   "execution_count": 7,
   "id": "b7b15cc4-ee7c-4ae1-9712-733e9fd4afb9",
   "metadata": {},
   "outputs": [],
   "source": [
    "# Create a function that tells elegibility of marriage for male and female according to their age limit like 21 for male and 18 for female\n",
    "class ElegiblityForMarriage():\n",
    "    def Elegible():\n",
    "        gender=input(\"Your Gender: \")\n",
    "        age=int(input(\"Your Age: \"))\n",
    "        if gender.lower() == 'male':\n",
    "            if age >= 21:\n",
    "                return \"Eligible for marriage.\"\n",
    "            else:\n",
    "                return \"NOT ELIGIBLE\"\n",
    "        elif gender.lower() == 'female':\n",
    "            if age >= 18:\n",
    "                return \"Eligible for marriage.\"\n",
    "            else:\n",
    "                return \"NOT ELIGIBLE\"\n",
    "        else:\n",
    "            return \"Invalid gender input. Please specify 'male' or 'female'.\"  "
   ]
  },
  {
   "cell_type": "code",
   "execution_count": 8,
   "id": "13b70fdf-def1-4612-a84c-8cce931139cb",
   "metadata": {
    "jupyter": {
     "source_hidden": true
    }
   },
   "outputs": [
    {
     "name": "stdin",
     "output_type": "stream",
     "text": [
      "Your Gender:  male\n",
      "Your Age:  20\n"
     ]
    },
    {
     "data": {
      "text/plain": [
       "'NOT ELIGIBLE'"
      ]
     },
     "execution_count": 8,
     "metadata": {},
     "output_type": "execute_result"
    }
   ],
   "source": [
    "ElegiblityForMarriage.Elegible()"
   ]
  },
  {
   "cell_type": "code",
   "execution_count": 10,
   "id": "282ba4ff-3c29-4208-9478-8c913a5c816b",
   "metadata": {},
   "outputs": [],
   "source": [
    "# calculate the percentage of your 10th mark\n",
    "class FindPercent():\n",
    "    def percentage():\n",
    "        S1=float(input(\"Subject1: \"))\n",
    "        S2=float(input(\"Subject2: \"))\n",
    "        S3=float(input(\"Subject3: \"))\n",
    "        S4=float(input(\"Subject4: \"))\n",
    "        S5=float(input(\"Subject5: \"))\n",
    "    \n",
    "        total_marks = S1+S2+S3+S4+S5\n",
    "        print(\"Totel: \",total_marks)\n",
    "    \n",
    "        percentage = (total_marks / 5)\n",
    "        print(\"Percentage : \",percentage)\n",
    "    "
   ]
  },
  {
   "cell_type": "code",
   "execution_count": 11,
   "id": "88d00500-44c1-4dab-a899-e184d4bfc565",
   "metadata": {
    "jupyter": {
     "source_hidden": true
    }
   },
   "outputs": [
    {
     "name": "stdin",
     "output_type": "stream",
     "text": [
      "Subject1:  56\n",
      "Subject2:  96\n",
      "Subject3:  77\n",
      "Subject4:  88\n",
      "Subject5:  69\n"
     ]
    },
    {
     "name": "stdout",
     "output_type": "stream",
     "text": [
      "Totel:  386.0\n",
      "Percentage :  77.2\n"
     ]
    }
   ],
   "source": [
    "FindPercent.percentage()"
   ]
  },
  {
   "cell_type": "code",
   "execution_count": null,
   "id": "ea451933-4e64-48a9-a846-fc1d85b73299",
   "metadata": {},
   "outputs": [],
   "source": [
    "#print area and perimeter of triangle using class and functions\n",
    "class triangle()\"\n"
   ]
  }
 ],
 "metadata": {
  "kernelspec": {
   "display_name": "anaconda-panel-2023.05-py310",
   "language": "python",
   "name": "conda-env-anaconda-panel-2023.05-py310-py"
  },
  "language_info": {
   "codemirror_mode": {
    "name": "ipython",
    "version": 3
   },
   "file_extension": ".py",
   "mimetype": "text/x-python",
   "name": "python",
   "nbconvert_exporter": "python",
   "pygments_lexer": "ipython3",
   "version": "3.11.5"
  }
 },
 "nbformat": 4,
 "nbformat_minor": 5
}
