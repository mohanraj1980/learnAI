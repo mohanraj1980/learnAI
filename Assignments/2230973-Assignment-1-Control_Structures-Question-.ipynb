{
 "cells": [
  {
   "cell_type": "code",
   "execution_count": 1,
   "id": "edcabadb-d147-4a71-8103-a6e3ecf50dad",
   "metadata": {},
   "outputs": [
    {
     "name": "stdout",
     "output_type": "stream",
     "text": [
      "Welcome to Assignment-1\n"
     ]
    }
   ],
   "source": [
    "print(\"Welcome to Assignment-1\")"
   ]
  },
  {
   "cell_type": "code",
   "execution_count": 2,
   "id": "b5d9b838-c745-462a-94f2-3d7dc1cf9fb1",
   "metadata": {},
   "outputs": [
    {
     "name": "stdout",
     "output_type": "stream",
     "text": [
      "Num1 = 10\n",
      "Num2 = 30\n",
      "Add = 40\n"
     ]
    }
   ],
   "source": [
    "Num1= 10\n",
    "Num2= 30\n",
    "print(\"Num1 =\", Num1)\n",
    "print(\"Num2 =\", Num2)\n",
    "print(\"Add =\", Num1+Num2)"
   ]
  },
  {
   "cell_type": "code",
   "execution_count": 1,
   "id": "335470b3-6e84-4d3b-a7b5-ef314c793af7",
   "metadata": {},
   "outputs": [
    {
     "name": "stdout",
     "output_type": "stream",
     "text": [
      "Enter the BMI Index: 26.5\n"
     ]
    }
   ],
   "source": [
    "bmi = float(input(\"Enter the BMI Index:\"))"
   ]
  },
  {
   "cell_type": "code",
   "execution_count": 2,
   "id": "8ca94ab1-6906-4b83-8ad0-7ae7b1040545",
   "metadata": {},
   "outputs": [
    {
     "name": "stdout",
     "output_type": "stream",
     "text": [
      "Overweight\n"
     ]
    }
   ],
   "source": [
    "if (bmi < 18.5):\n",
    "    print(\"Underweight\")\n",
    "elif (18.5 <= bmi <24.9):\n",
    "    print(\"normal\")\n",
    "elif (25 <= bmi <30):\n",
    "    print(\"Overweight\")\n",
    "else:\n",
    "    print(\"Very overweight\")\n"
   ]
  },
  {
   "cell_type": "code",
   "execution_count": null,
   "id": "a3c5b379-0428-41b7-9b1f-706c7110e3e5",
   "metadata": {},
   "outputs": [],
   "source": []
  }
 ],
 "metadata": {
  "kernelspec": {
   "display_name": "Python 3",
   "language": "python",
   "name": "python3"
  },
  "language_info": {
   "codemirror_mode": {
    "name": "ipython",
    "version": 3
   },
   "file_extension": ".py",
   "mimetype": "text/x-python",
   "name": "python",
   "nbconvert_exporter": "python",
   "pygments_lexer": "ipython3",
   "version": "3.11.9"
  }
 },
 "nbformat": 4,
 "nbformat_minor": 5
}
